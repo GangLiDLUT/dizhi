{
 "cells": [
  {
   "cell_type": "markdown",
   "metadata": {},
   "source": [
    "# 运行数据\n",
    "- 只需要指定运行数据解压的文件夹，然后运行脚本即可。数据将保存到Data文件夹下。\n",
    "\n",
    "存储方式的选择：\n",
    "\n",
    "- 考虑使用hdf5"
   ]
  },
  {
   "cell_type": "code",
   "execution_count": 1,
   "metadata": {
    "collapsed": false
   },
   "outputs": [
    {
     "name": "stdout",
     "output_type": "stream",
     "text": [
      "\u001b[30m\u001b[43mafter\u001b[m\u001b[m          \u001b[30m\u001b[43mbefore\u001b[m\u001b[m         \u001b[30m\u001b[43mmiddle(7-1365)\u001b[m\u001b[m\r\n"
     ]
    }
   ],
   "source": [
    "import pandas as pd\n",
    "import os\n",
    "import dateutil.parser\n",
    "\n",
    "datadir = '/Volumes/lxdata/Excel数据/'\n",
    "store = pd.HDFStore('../Data/run_data.h5')\n",
    "\n",
    "!ls $datadir"
   ]
  },
  {
   "cell_type": "markdown",
   "metadata": {},
   "source": [
    "# 处理 before 文件夹"
   ]
  },
  {
   "cell_type": "code",
   "execution_count": 2,
   "metadata": {
    "collapsed": false
   },
   "outputs": [
    {
     "name": "stdout",
     "output_type": "stream",
     "text": [
      "130415.csv\n",
      "130416.csv\n",
      "130417.csv\n",
      "130418.csv\n",
      "130419.csv\n",
      "130420.csv\n",
      "130421.csv\n",
      "130422.csv\n",
      "130423.csv\n",
      "130424.csv\n",
      "130425.csv\n",
      "130426.csv\n",
      "130427.csv\n",
      "130707.csv\n",
      "130708.csv\n",
      "130709.csv\n",
      "130710.csv\n",
      "130711.csv\n",
      "130712.csv\n",
      "130713.csv\n",
      "130714.csv\n",
      "130715.csv\n",
      "130716.csv\n",
      "130717.csv\n",
      "130718.csv\n",
      "130719.csv\n",
      "130720.csv\n",
      "130721.csv\n",
      "130722.csv\n",
      "130723.csv\n",
      "130724.csv\n",
      "130725.csv\n",
      "130726.csv\n",
      "130727.csv\n",
      "130728.csv\n",
      "130729.csv\n",
      "130730.csv\n",
      "saving...\n",
      "saved\n"
     ]
    }
   ],
   "source": [
    "# process the before folder\n",
    "name = 'before'\n",
    "d_dir = '/Volumes/lxdata/Excel数据/'+name+'/'\n",
    "fs = os.listdir(d_dir)\n",
    "\n",
    "dfs = []\n",
    "for i,fname in enumerate(fs):\n",
    "    print fname\n",
    "    dfs.append(pd.read_csv(d_dir+fname,encoding='gb2312'))\n",
    "\n",
    "    \n",
    "alldf = pd.concat(dfs,keys=fs)\n",
    "del alldf['Unnamed: 77']\n",
    "del alldf['ID']\n",
    "\n",
    "alldf[u'日期'] = alldf[u'日期'].apply(lambda x: x.encode('utf-8').strip())\n",
    "alldf.columns = map(lambda x: x.encode('utf-8').strip(),alldf.columns)\n",
    "\n",
    "print 'saving...'\n",
    "store[name]=alldf\n",
    "print 'saved'"
   ]
  },
  {
   "cell_type": "markdown",
   "metadata": {},
   "source": [
    "# 处理 after 文件夹"
   ]
  },
  {
   "cell_type": "code",
   "execution_count": 3,
   "metadata": {
    "collapsed": false
   },
   "outputs": [
    {
     "name": "stdout",
     "output_type": "stream",
     "text": [
      "140602.csv\n",
      "140603.csv\n",
      "140604.csv\n",
      "140605.csv\n",
      "140606.csv\n",
      "140607.csv\n",
      "140608.csv\n",
      "140609.csv\n",
      "140610.csv\n",
      "140611.csv\n",
      "140612.csv\n",
      "140613.csv\n",
      "140614.csv\n",
      "140615.csv\n",
      "140616.csv\n",
      "140617.csv\n"
     ]
    }
   ],
   "source": [
    "name = 'after'\n",
    "d_dir = '/Volumes/lxdata/Excel数据/'+name+'/'\n",
    "fs = os.listdir(d_dir)\n",
    "\n",
    "dfs = []\n",
    "for fname in fs:\n",
    "    print fname\n",
    "    dfs.append(pd.read_csv(d_dir+fname,encoding='gb2312'))\n",
    "    \n",
    "alldf = pd.concat(dfs,keys=fs)\n",
    "del alldf['Unnamed: 77']\n",
    "del alldf['ID']\n",
    "\n",
    "alldf[u'日期'] = alldf[u'日期'].apply(lambda x: x.encode('utf-8').strip())\n",
    "alldf.columns = map(lambda x: x.encode('utf-8').strip(),alldf.columns)\n",
    "\n",
    "store[name]=alldf"
   ]
  },
  {
   "cell_type": "code",
   "execution_count": 4,
   "metadata": {
    "collapsed": true
   },
   "outputs": [],
   "source": [
    "store.close()"
   ]
  },
  {
   "cell_type": "markdown",
   "metadata": {},
   "source": [
    "# the middle folder has too much data.  so leave it for later process"
   ]
  },
  {
   "cell_type": "code",
   "execution_count": null,
   "metadata": {
    "collapsed": true
   },
   "outputs": [],
   "source": []
  },
  {
   "cell_type": "code",
   "execution_count": null,
   "metadata": {
    "collapsed": true
   },
   "outputs": [],
   "source": [
    "store = pd.HDFStore('../Data/run_data.h5')\n",
    "# process the after folder\n",
    "mdir = datadir+'middle(7-1365)/'\n",
    "fs = os.listdir(mdir)\n",
    "\n",
    "dfs = []\n",
    "for fname in fs:\n",
    "    print fname\n",
    "    dfs.append(pd.read_csv(mdir+fname,encoding='gb2312'))\n",
    "\n",
    "alldf = pd.concat(dfs,keys=fs)\n",
    "del alldf['Unnamed: 77']\n",
    "del alldf['ID']\n",
    "\n",
    "alldf[u'日期'] = alldf[u'日期'].apply(lambda x: x.encode('utf-8').strip())\n",
    "alldf.columns = map(lambda x: x.encode('utf-8').strip(),alldf.columns)\n",
    "\n",
    "store['middle']=alldf\n",
    "store.close()"
   ]
  },
  {
   "cell_type": "code",
   "execution_count": null,
   "metadata": {
    "collapsed": true
   },
   "outputs": [],
   "source": []
  }
 ],
 "metadata": {
  "kernelspec": {
   "display_name": "Python 2",
   "language": "python",
   "name": "python2"
  },
  "language_info": {
   "codemirror_mode": {
    "name": "ipython",
    "version": 2
   },
   "file_extension": ".py",
   "mimetype": "text/x-python",
   "name": "python",
   "nbconvert_exporter": "python",
   "pygments_lexer": "ipython2",
   "version": "2.7.12"
  }
 },
 "nbformat": 4,
 "nbformat_minor": 0
}
