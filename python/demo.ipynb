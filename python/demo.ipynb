{
 "cells": [
  {
   "cell_type": "markdown",
   "metadata": {},
   "source": [
    "这个文件是示例文件。展示如何使用sklearn，对数据进行处理。"
   ]
  },
  {
   "cell_type": "code",
   "execution_count": 14,
   "metadata": {
    "collapsed": false
   },
   "outputs": [
    {
     "name": "stdout",
     "output_type": "stream",
     "text": [
      "Populating the interactive namespace from numpy and matplotlib\n",
      "(66067, 81)\n",
      "(66067, 3)\n"
     ]
    },
    {
     "name": "stderr",
     "output_type": "stream",
     "text": [
      "WARNING: pylab import has clobbered these variables: ['clf']\n",
      "`%matplotlib` prevents importing * from pylab and numpy\n"
     ]
    }
   ],
   "source": [
    "%pylab inline\n",
    "%matplotlib inline\n",
    "import pandas as pd\n",
    "\n",
    "store = pd.HDFStore('store.h5')\n",
    "feats = store['feats']\n",
    "labs = store['labs']\n",
    "print feats.shape\n",
    "print labs.shape"
   ]
  },
  {
   "cell_type": "code",
   "execution_count": 15,
   "metadata": {
    "collapsed": false,
    "scrolled": true
   },
   "outputs": [
    {
     "data": {
      "text/html": [
       "<div>\n",
       "<table border=\"1\" class=\"dataframe\">\n",
       "  <thead>\n",
       "    <tr style=\"text-align: right;\">\n",
       "      <th></th>\n",
       "      <th>TEZ</th>\n",
       "      <th>TEG</th>\n",
       "      <th>W</th>\n",
       "      <th>FP</th>\n",
       "      <th>FPA</th>\n",
       "      <th>FPB</th>\n",
       "      <th>FPC</th>\n",
       "      <th>FPD</th>\n",
       "      <th>PSB</th>\n",
       "      <th>PJ</th>\n",
       "      <th>...</th>\n",
       "      <th>SITA3</th>\n",
       "      <th>K3</th>\n",
       "      <th>FRB3</th>\n",
       "      <th>H4</th>\n",
       "      <th>Y4</th>\n",
       "      <th>FI4</th>\n",
       "      <th>EM4</th>\n",
       "      <th>P4</th>\n",
       "      <th>SITA4</th>\n",
       "      <th>K4</th>\n",
       "    </tr>\n",
       "  </thead>\n",
       "  <tbody>\n",
       "    <tr>\n",
       "      <th>0</th>\n",
       "      <td>39.02995</td>\n",
       "      <td>34.62457</td>\n",
       "      <td>1.494358</td>\n",
       "      <td>155.4688</td>\n",
       "      <td>71.62905</td>\n",
       "      <td>127.0255</td>\n",
       "      <td>67.39005</td>\n",
       "      <td>53.60243</td>\n",
       "      <td>140.4080</td>\n",
       "      <td>44.67593</td>\n",
       "      <td>...</td>\n",
       "      <td>0.45</td>\n",
       "      <td>0.5</td>\n",
       "      <td>22</td>\n",
       "      <td>0</td>\n",
       "      <td>0</td>\n",
       "      <td>0</td>\n",
       "      <td>0</td>\n",
       "      <td>0</td>\n",
       "      <td>0</td>\n",
       "      <td>0</td>\n",
       "    </tr>\n",
       "    <tr>\n",
       "      <th>1</th>\n",
       "      <td>39.20356</td>\n",
       "      <td>34.79818</td>\n",
       "      <td>1.490017</td>\n",
       "      <td>155.3819</td>\n",
       "      <td>72.13542</td>\n",
       "      <td>126.6927</td>\n",
       "      <td>68.01215</td>\n",
       "      <td>52.67651</td>\n",
       "      <td>140.4080</td>\n",
       "      <td>44.58912</td>\n",
       "      <td>...</td>\n",
       "      <td>0.45</td>\n",
       "      <td>0.5</td>\n",
       "      <td>22</td>\n",
       "      <td>0</td>\n",
       "      <td>0</td>\n",
       "      <td>0</td>\n",
       "      <td>0</td>\n",
       "      <td>0</td>\n",
       "      <td>0</td>\n",
       "      <td>0</td>\n",
       "    </tr>\n",
       "    <tr>\n",
       "      <th>2</th>\n",
       "      <td>39.03357</td>\n",
       "      <td>34.60287</td>\n",
       "      <td>1.490017</td>\n",
       "      <td>155.1939</td>\n",
       "      <td>74.75405</td>\n",
       "      <td>126.3744</td>\n",
       "      <td>68.96702</td>\n",
       "      <td>49.66724</td>\n",
       "      <td>140.4080</td>\n",
       "      <td>44.73380</td>\n",
       "      <td>...</td>\n",
       "      <td>0.45</td>\n",
       "      <td>0.5</td>\n",
       "      <td>22</td>\n",
       "      <td>0</td>\n",
       "      <td>0</td>\n",
       "      <td>0</td>\n",
       "      <td>0</td>\n",
       "      <td>0</td>\n",
       "      <td>0</td>\n",
       "      <td>0</td>\n",
       "    </tr>\n",
       "    <tr>\n",
       "      <th>3</th>\n",
       "      <td>39.15654</td>\n",
       "      <td>34.81988</td>\n",
       "      <td>1.490017</td>\n",
       "      <td>155.1215</td>\n",
       "      <td>72.98901</td>\n",
       "      <td>127.1412</td>\n",
       "      <td>67.67940</td>\n",
       "      <td>53.97858</td>\n",
       "      <td>140.3356</td>\n",
       "      <td>44.79166</td>\n",
       "      <td>...</td>\n",
       "      <td>0.45</td>\n",
       "      <td>0.5</td>\n",
       "      <td>22</td>\n",
       "      <td>0</td>\n",
       "      <td>0</td>\n",
       "      <td>0</td>\n",
       "      <td>0</td>\n",
       "      <td>0</td>\n",
       "      <td>0</td>\n",
       "      <td>0</td>\n",
       "    </tr>\n",
       "    <tr>\n",
       "      <th>4</th>\n",
       "      <td>39.02633</td>\n",
       "      <td>34.62457</td>\n",
       "      <td>1.486979</td>\n",
       "      <td>155.2373</td>\n",
       "      <td>72.26563</td>\n",
       "      <td>126.9965</td>\n",
       "      <td>68.17130</td>\n",
       "      <td>55.70023</td>\n",
       "      <td>140.3356</td>\n",
       "      <td>44.71933</td>\n",
       "      <td>...</td>\n",
       "      <td>0.45</td>\n",
       "      <td>0.5</td>\n",
       "      <td>22</td>\n",
       "      <td>0</td>\n",
       "      <td>0</td>\n",
       "      <td>0</td>\n",
       "      <td>0</td>\n",
       "      <td>0</td>\n",
       "      <td>0</td>\n",
       "      <td>0</td>\n",
       "    </tr>\n",
       "  </tbody>\n",
       "</table>\n",
       "<p>5 rows × 81 columns</p>\n",
       "</div>"
      ],
      "text/plain": [
       "        TEZ       TEG         W        FP       FPA       FPB       FPC  \\\n",
       "0  39.02995  34.62457  1.494358  155.4688  71.62905  127.0255  67.39005   \n",
       "1  39.20356  34.79818  1.490017  155.3819  72.13542  126.6927  68.01215   \n",
       "2  39.03357  34.60287  1.490017  155.1939  74.75405  126.3744  68.96702   \n",
       "3  39.15654  34.81988  1.490017  155.1215  72.98901  127.1412  67.67940   \n",
       "4  39.02633  34.62457  1.486979  155.2373  72.26563  126.9965  68.17130   \n",
       "\n",
       "        FPD       PSB        PJ ...  SITA3   K3  FRB3  H4  Y4  FI4  EM4  P4  \\\n",
       "0  53.60243  140.4080  44.67593 ...   0.45  0.5    22   0   0    0    0   0   \n",
       "1  52.67651  140.4080  44.58912 ...   0.45  0.5    22   0   0    0    0   0   \n",
       "2  49.66724  140.4080  44.73380 ...   0.45  0.5    22   0   0    0    0   0   \n",
       "3  53.97858  140.3356  44.79166 ...   0.45  0.5    22   0   0    0    0   0   \n",
       "4  55.70023  140.3356  44.71933 ...   0.45  0.5    22   0   0    0    0   0   \n",
       "\n",
       "   SITA4  K4  \n",
       "0      0   0  \n",
       "1      0   0  \n",
       "2      0   0  \n",
       "3      0   0  \n",
       "4      0   0  \n",
       "\n",
       "[5 rows x 81 columns]"
      ]
     },
     "execution_count": 15,
     "metadata": {},
     "output_type": "execute_result"
    }
   ],
   "source": [
    "feats.head()"
   ]
  },
  {
   "cell_type": "code",
   "execution_count": 16,
   "metadata": {
    "collapsed": false
   },
   "outputs": [
    {
     "data": {
      "text/html": [
       "<div>\n",
       "<table border=\"1\" class=\"dataframe\">\n",
       "  <thead>\n",
       "    <tr style=\"text-align: right;\">\n",
       "      <th></th>\n",
       "      <th>F</th>\n",
       "      <th>T</th>\n",
       "      <th>V</th>\n",
       "    </tr>\n",
       "  </thead>\n",
       "  <tbody>\n",
       "    <tr>\n",
       "      <th>0</th>\n",
       "      <td>9030.883</td>\n",
       "      <td>1329.209</td>\n",
       "      <td>74.16113</td>\n",
       "    </tr>\n",
       "    <tr>\n",
       "      <th>1</th>\n",
       "      <td>9031.707</td>\n",
       "      <td>1318.507</td>\n",
       "      <td>70.97778</td>\n",
       "    </tr>\n",
       "    <tr>\n",
       "      <th>2</th>\n",
       "      <td>9051.828</td>\n",
       "      <td>1302.055</td>\n",
       "      <td>71.93286</td>\n",
       "    </tr>\n",
       "    <tr>\n",
       "      <th>3</th>\n",
       "      <td>9094.104</td>\n",
       "      <td>1291.687</td>\n",
       "      <td>69.70459</td>\n",
       "    </tr>\n",
       "    <tr>\n",
       "      <th>4</th>\n",
       "      <td>9129.016</td>\n",
       "      <td>1314.849</td>\n",
       "      <td>70.97778</td>\n",
       "    </tr>\n",
       "  </tbody>\n",
       "</table>\n",
       "</div>"
      ],
      "text/plain": [
       "          F         T         V\n",
       "0  9030.883  1329.209  74.16113\n",
       "1  9031.707  1318.507  70.97778\n",
       "2  9051.828  1302.055  71.93286\n",
       "3  9094.104  1291.687  69.70459\n",
       "4  9129.016  1314.849  70.97778"
      ]
     },
     "execution_count": 16,
     "metadata": {},
     "output_type": "execute_result"
    }
   ],
   "source": [
    "labs.head()"
   ]
  },
  {
   "cell_type": "markdown",
   "metadata": {},
   "source": [
    "接着我们使用线性模型，对F做拟合\n",
    "http://scikit-learn.org/stable/modules/linear_model.html"
   ]
  },
  {
   "cell_type": "code",
   "execution_count": 17,
   "metadata": {
    "collapsed": false
   },
   "outputs": [
    {
     "data": {
      "text/plain": [
       "LinearRegression(copy_X=True, fit_intercept=True, n_jobs=1, normalize=False)"
      ]
     },
     "execution_count": 17,
     "metadata": {},
     "output_type": "execute_result"
    }
   ],
   "source": [
    "from sklearn import linear_model\n",
    "clf = linear_model.LinearRegression()\n",
    "clf.fit(feats,labs['F'])"
   ]
  },
  {
   "cell_type": "markdown",
   "metadata": {},
   "source": [
    "我们看一下线性回归的系数："
   ]
  },
  {
   "cell_type": "code",
   "execution_count": 18,
   "metadata": {
    "collapsed": false
   },
   "outputs": [
    {
     "data": {
      "text/plain": [
       "array([  3.43652217e+00,   2.31710159e+00,   1.96976883e+02,\n",
       "         3.82514949e+00,   2.93590722e+01,   2.34881866e+01,\n",
       "         2.95920161e+01,   2.58287543e+01,  -2.52031076e-01,\n",
       "        -2.67066877e-02,  -1.02529257e-01,  -1.26459157e-01,\n",
       "        -1.05068390e+00,  -6.08984340e-01,   5.23475254e-01,\n",
       "         5.72339342e-01,   1.33651025e-01,  -1.19567701e-01,\n",
       "        -5.60325001e+00,   2.13918573e+00,  -5.98871776e+00,\n",
       "         3.53191529e+01,  -2.45427717e+02,   2.00145552e+02,\n",
       "         2.56113913e+02,   8.61510557e+01,  -2.70700886e+01,\n",
       "        -6.49193993e+00,  -4.49449434e+00,  -1.87676690e+01,\n",
       "         2.03087183e+00,   1.11452159e-11,  -1.09809800e+01,\n",
       "         4.53132030e-01,  -1.29455683e+00,   4.60693435e-01,\n",
       "         2.12445852e-01,  -8.37494675e-01,  -1.35923477e+02,\n",
       "        -2.59463559e+00,   1.53297261e+02,  -2.77864403e+00,\n",
       "         4.85212403e+00,  -6.10249257e+00,   4.04303523e+00,\n",
       "         4.20639642e+00,  -5.03578851e+00,   4.43304230e+00,\n",
       "        -4.55393846e+00,  -1.37578911e+02,  -4.35972920e+01,\n",
       "        -4.92271612e+02,   5.93211646e+01,  -5.09731759e+01,\n",
       "         5.10532003e+01,  -1.08806342e+03,  -2.03176614e+01,\n",
       "         2.36638766e+01,  -4.40403071e+01,   9.05902902e+01,\n",
       "        -3.67290473e+01,   1.07556260e+01,  -3.36453806e+03,\n",
       "         3.07653659e+02,   1.87094203e+01,  -9.83671689e+00,\n",
       "        -4.23137181e+01,  -9.20570540e+01,   7.45033250e+01,\n",
       "        -1.22216293e-01,   2.84719267e+02,   1.69638533e+01,\n",
       "        -2.91271842e+01,  -1.92010542e+00,  -6.90718788e+00,\n",
       "        -1.49472377e+02,   1.42879377e+02,  -3.15444741e+01,\n",
       "         3.45496250e+01,  -1.21236675e+02,   4.97463162e+02])"
      ]
     },
     "execution_count": 18,
     "metadata": {},
     "output_type": "execute_result"
    }
   ],
   "source": [
    "clf.coef_"
   ]
  },
  {
   "cell_type": "code",
   "execution_count": 19,
   "metadata": {
    "collapsed": false
   },
   "outputs": [
    {
     "data": {
      "text/plain": [
       "[<matplotlib.lines.Line2D at 0x116036610>]"
      ]
     },
     "execution_count": 19,
     "metadata": {},
     "output_type": "execute_result"
    },
    {
     "data": {
      "image/png": "[encoded data removed]",
      "text/plain": [
       "<matplotlib.figure.Figure at 0x11305d410>"
      ]
     },
     "metadata": {},
     "output_type": "display_data"
    }
   ],
   "source": [
    "plot(clf.coef_)"
   ]
  },
  {
   "cell_type": "code",
   "execution_count": null,
   "metadata": {
    "collapsed": true
   },
   "outputs": [],
   "source": []
  }
 ],
 "metadata": {
  "kernelspec": {
   "display_name": "Python 2",
   "language": "python",
   "name": "python2"
  },
  "language_info": {
   "codemirror_mode": {
    "name": "ipython",
    "version": 2
   },
   "file_extension": ".py",
   "mimetype": "text/x-python",
   "name": "python",
   "nbconvert_exporter": "python",
   "pygments_lexer": "ipython2",
   "version": "2.7.11"
  }
 },
 "nbformat": 4,
 "nbformat_minor": 0
}
