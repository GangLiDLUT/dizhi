{
 "cells": [
  {
   "cell_type": "markdown",
   "metadata": {},
   "source": [
    "# load dataset and screen obvious outliers"
   ]
  },
  {
   "cell_type": "code",
   "execution_count": 1,
   "metadata": {
    "collapsed": false
   },
   "outputs": [
    {
     "name": "stdout",
     "output_type": "stream",
     "text": [
      "Populating the interactive namespace from numpy and matplotlib\n"
     ]
    }
   ],
   "source": [
    "%pylab inline\n",
    "%matplotlib inline\n",
    "import pandas as pd\n",
    "\n",
    "store = pd.HDFStore('store.h5')\n",
    "feats = store['feats']\n",
    "labs = store['labs']\n",
    "\n",
    "# sel=(labs.F!=0)\n",
    "# labF = labs[sel].F\n",
    "# featsF = feats[sel]\n",
    "\n",
    "sel2=(labs['T']!=0)\n",
    "labT = labs[sel2]['T']\n",
    "featsT = feats[sel2]\n",
    "\n",
    "# labV = labs.V\n",
    "# featsV = feats"
   ]
  },
  {
   "cell_type": "markdown",
   "metadata": {},
   "source": [
    "# preprocessing the data"
   ]
  },
  {
   "cell_type": "code",
   "execution_count": 2,
   "metadata": {
    "collapsed": false
   },
   "outputs": [
    {
     "name": "stdout",
     "output_type": "stream",
     "text": [
      "(44132, 81) (21738, 81) (44132,) (21738,)\n"
     ]
    }
   ],
   "source": [
    "from sklearn import preprocessing\n",
    "import numpy as np\n",
    "\n",
    "#sfeatsF = pd.DataFrame(preprocessing.scale(featsF))\n",
    "sfeatsT = pd.DataFrame(preprocessing.scale(featsT))\n",
    "#sfeatsV = pd.DataFrame(preprocessing.scale(featsV))\n",
    "\n",
    "X=sfeatsT\n",
    "Y=labT\n",
    "from sklearn.cross_validation import train_test_split\n",
    "\n",
    "X_train, X_test, Y_train, Y_test = train_test_split(sfeatsT, labT, test_size=0.33, random_state=42)\n",
    "print X_train.shape, X_test.shape, Y_train.shape, Y_test.shape"
   ]
  },
  {
   "cell_type": "markdown",
   "metadata": {},
   "source": [
    "$score = 1−\\sum(y_{pred}−y_{true})^2/ \\sum(y_{true}−y_{mean})^2$\n"
   ]
  },
  {
   "cell_type": "code",
   "execution_count": 3,
   "metadata": {
    "collapsed": false,
    "scrolled": true
   },
   "outputs": [
    {
     "name": "stdout",
     "output_type": "stream",
     "text": [
      "deleted variables: 9\n",
      "score: 0.801639743414\n"
     ]
    },
    {
     "name": "stderr",
     "output_type": "stream",
     "text": [
      "/Users/crackhopper/anaconda/lib/python2.7/site-packages/sklearn/linear_model/coordinate_descent.py:444: ConvergenceWarning: Objective did not converge. You might want to increase the number of iterations\n",
      "  ConvergenceWarning)\n"
     ]
    }
   ],
   "source": [
    "from sklearn import linear_model\n",
    "lasso = linear_model.Lasso(alpha=0.5)\n",
    "lasso.fit(X_train,Y_train)\n",
    "\n",
    "lowly_correlated= (lasso.coef_==0)\n",
    "print 'deleted variables:',sum(lowly_correlated)\n",
    "print 'score:',lasso.score(X_test,Y_test)"
   ]
  },
  {
   "cell_type": "code",
   "execution_count": 4,
   "metadata": {
    "collapsed": false
   },
   "outputs": [
    {
     "data": {
      "text/plain": [
       "[<matplotlib.lines.Line2D at 0x11d39f050>]"
      ]
     },
     "execution_count": 4,
     "metadata": {},
     "output_type": "execute_result"
    },
    {
     "data": {
      "image/png": "[encoded data removed]",
      "text/plain": [
       "<matplotlib.figure.Figure at 0x1113f0450>"
      ]
     },
     "metadata": {},
     "output_type": "display_data"
    }
   ],
   "source": [
    "plot(lasso.coef_,'o')"
   ]
  },
  {
   "cell_type": "code",
   "execution_count": 12,
   "metadata": {
    "collapsed": false
   },
   "outputs": [
    {
     "name": "stdout",
     "output_type": "stream",
     "text": [
      "EM3 : -1139.42748616\n",
      "FRB3 : 1101.26092958\n",
      "P3 : -690.415473378\n",
      "FI3 : 482.123438379\n",
      "TEG : 447.299737745\n",
      "K4 : 432.341957911\n",
      "EM4 : -383.285140951\n",
      "K3 : -328.310316548\n",
      "FPA : 307.188883762\n",
      "PTDL : -302.925598065\n",
      "FPD : 249.212335938\n",
      "PTUL : 212.148204401\n",
      "PL : 194.330165307\n",
      "PJ : -167.130076136\n",
      "SITA : -150.417775763\n",
      "FI2 : -149.379770112\n",
      "PTU : -138.693047521\n",
      "PTUR : 136.827720269\n",
      "H2 : 135.699816767\n",
      "P2 : 118.820193289\n",
      "PZDL : 107.606655637\n",
      "W : 97.3045088838\n",
      "SDL : -96.425890293\n",
      "SITA2 : -96.3940397781\n",
      "PTDR : -94.984147486\n",
      "WL : -94.3104913227\n",
      "H3 : 92.2736640482\n",
      "FP : 89.8591230997\n",
      "FPC : 85.2026032439\n",
      "SDR : 82.428370452\n",
      "SUL : 79.0663261726\n",
      "SC : 68.6725627661\n",
      "EM1 : -67.4025942374\n",
      "TL : 61.4306747226\n",
      "Y3 : -56.8719869632\n",
      "FI1 : -53.2764473612\n",
      "Y4 : -51.9366968829\n",
      "SIGMA : -51.5373847866\n",
      "FPB : 48.4765928845\n",
      "SITA4 : 48.2284666503\n",
      "PZUR : 45.3449977234\n",
      "K1 : 40.7160654799\n",
      "PDWLL : -38.1332297793\n",
      "PFL : 37.1823110145\n",
      "EM2 : 37.1280189508\n",
      "K2 : 36.8681111583\n",
      "SUR : -36.1230176046\n",
      "H4 : -31.2274187017\n",
      "TEZ : 22.014461941\n",
      "PBL : 21.7573881419\n",
      "PDWHUL : -21.0427434174\n",
      "SITA3 : 20.8294578603\n",
      "WP : -20.3354531679\n",
      "PDWDL : -19.7174327763\n",
      "PDWHLL : -16.7878304485\n",
      "PDWHRR : -16.4953770799\n",
      "PDPLT : 15.1798647708\n",
      "H1 : 14.9875249159\n",
      "PDWHUR : -14.8658390511\n",
      "TEL : -13.6366544347\n",
      "Y1 : 13.5315217563\n",
      "PDWDR : -13.029135824\n",
      "PPLT : 10.2470196068\n",
      "PDWRR : -9.92590558307\n",
      "PDWUR : -7.61754972739\n",
      "PDWHDL : -6.76703705605\n",
      "PZUL : 6.35464174713\n",
      "PDWUL : -4.1379672629\n",
      "PSB : -4.10818596673\n",
      "SA : -2.70321092008\n",
      "P1 : -2.20710106227\n",
      "PDWHDR : 0.818842876511\n",
      "FRB2 : 0.0\n",
      "P4 : 0.0\n",
      "FI4 : -0.0\n",
      "SD : -0.0\n",
      "Y2 : 0.0\n",
      "FRB1 : -0.0\n",
      "SITA1 : -0.0\n",
      "SB : 0.0\n",
      "PZDR : 0.0\n"
     ]
    }
   ],
   "source": [
    "s_idx=argsort(abs(lasso.coef_))[::-1]\n",
    "importance = featsT.columns[s_idx]\n",
    "for name,imp in zip(importance,lasso.coef_[s_idx]):\n",
    "    print name,':',imp"
   ]
  },
  {
   "cell_type": "markdown",
   "metadata": {},
   "source": [
    "# use full data"
   ]
  },
  {
   "cell_type": "code",
   "execution_count": 13,
   "metadata": {
    "collapsed": false
   },
   "outputs": [
    {
     "name": "stdout",
     "output_type": "stream",
     "text": [
      "score: 0.802809115835\n"
     ]
    }
   ],
   "source": [
    "lasso.fit(X,Y)\n",
    "print 'score:',lasso.score(X,Y)"
   ]
  },
  {
   "cell_type": "markdown",
   "metadata": {},
   "source": [
    "# use RF to try"
   ]
  },
  {
   "cell_type": "code",
   "execution_count": 16,
   "metadata": {
    "collapsed": false
   },
   "outputs": [
    {
     "name": "stdout",
     "output_type": "stream",
     "text": [
      "0.990948817254\n"
     ]
    }
   ],
   "source": [
    "from sklearn.ensemble import RandomForestRegressor as RFR\n",
    "rfr = RFR(n_estimators=10, criterion='mse', \n",
    "          max_depth=None, min_samples_split=2, \n",
    "          min_samples_leaf=1, min_weight_fraction_leaf=0.0,\n",
    "          max_features='auto', max_leaf_nodes=None, bootstrap=True,\n",
    "          oob_score=False, n_jobs=1, random_state=None, verbose=0, \n",
    "          warm_start=False)\n",
    "rfr.fit(X_train,Y_train)\n",
    "print rfr.score(X_test,Y_test)"
   ]
  },
  {
   "cell_type": "code",
   "execution_count": 17,
   "metadata": {
    "collapsed": false
   },
   "outputs": [
    {
     "data": {
      "text/plain": [
       "[<matplotlib.lines.Line2D at 0x12623ccd0>]"
      ]
     },
     "execution_count": 17,
     "metadata": {},
     "output_type": "execute_result"
    },
    {
     "data": {
      "image/png": "[encoded data removed]",
      "text/plain": [
       "<matplotlib.figure.Figure at 0x1035c2610>"
      ]
     },
     "metadata": {},
     "output_type": "display_data"
    }
   ],
   "source": [
    "plot(rfr.feature_importances_,'o')"
   ]
  },
  {
   "cell_type": "code",
   "execution_count": 19,
   "metadata": {
    "collapsed": false
   },
   "outputs": [
    {
     "name": "stdout",
     "output_type": "stream",
     "text": [
      "FPA : 0.283152497043\n",
      "TEG : 0.26642052614\n",
      "SDR : 0.0552176695169\n",
      "FPD : 0.0425087393428\n",
      "SIGMA : 0.0350866109715\n",
      "PTDL : 0.0336917868346\n",
      "FP : 0.0314973073525\n",
      "K2 : 0.0259208188938\n",
      "FPB : 0.0199393956155\n",
      "FPC : 0.0177368784531\n",
      "FRB1 : 0.0145451364767\n",
      "SDL : 0.0140409902767\n",
      "SUR : 0.0134976100181\n",
      "H1 : 0.0108252130397\n",
      "W : 0.00977613303363\n",
      "TL : 0.00820515141157\n",
      "WL : 0.00754171427527\n",
      "SITA : 0.00558609269243\n",
      "PZDL : 0.00555397922704\n",
      "PSB : 0.00532171939341\n",
      "SUL : 0.00522215196759\n",
      "PL : 0.00484690006795\n",
      "PJ : 0.00434611666887\n",
      "EM2 : 0.00430723377379\n",
      "PDWHUR : 0.00372396540699\n",
      "H2 : 0.00369120694744\n",
      "H3 : 0.00366342834619\n",
      "PDWLL : 0.00348352579966\n",
      "SITA2 : 0.00344669777231\n",
      "PTDR : 0.00337154597257\n",
      "TEL : 0.00327092973308\n",
      "PBL : 0.00274317228101\n",
      "TEZ : 0.00271702593768\n",
      "SB : 0.00251835656343\n",
      "FRB3 : 0.00249932664579\n",
      "PFL : 0.00239073809822\n",
      "SD : 0.00227155741813\n",
      "SC : 0.00216450112423\n",
      "PDWUR : 0.00207193192031\n",
      "PDWHRR : 0.00198403258424\n",
      "PDWHUL : 0.00192974425717\n",
      "SA : 0.0018848584519\n",
      "FI3 : 0.0018337490068\n",
      "PPLT : 0.00180809233337\n",
      "PDWHDR : 0.00169877215832\n",
      "PDWRR : 0.00163670813034\n",
      "PDWHLL : 0.00159583753768\n",
      "PDWUL : 0.00157765766701\n",
      "PTUL : 0.00152167057922\n",
      "PTU : 0.00152132199006\n",
      "PDWDR : 0.0014910662133\n",
      "PDWHDL : 0.00124129137595\n",
      "Y3 : 0.00122851509218\n",
      "PDWDL : 0.00104910827234\n",
      "EM1 : 0.00100442941066\n",
      "EM3 : 0.000977421986137\n",
      "PTUR : 0.000931521301954\n",
      "PDPLT : 0.000912389942196\n",
      "P2 : 0.000883896174268\n",
      "PZUR : 0.000531495269452\n",
      "SITA1 : 0.00051284566705\n",
      "H4 : 0.000443147144859\n",
      "FI4 : 0.000438119484911\n",
      "SITA3 : 0.000165332503415\n",
      "PZUL : 0.00015964338082\n",
      "FI1 : 5.74115196927e-05\n",
      "P4 : 2.93365502537e-05\n",
      "WP : 2.75602490275e-05\n",
      "P1 : 2.68192269886e-05\n",
      "K1 : 1.89585348101e-05\n",
      "Y1 : 1.61857726731e-05\n",
      "P3 : 1.06617585311e-05\n",
      "FRB2 : 9.95062169014e-06\n",
      "Y4 : 7.88829588705e-06\n",
      "K3 : 6.58069670763e-06\n",
      "Y2 : 4.27052831682e-06\n",
      "SITA4 : 2.74823475439e-06\n",
      "FI2 : 2.44495278644e-06\n",
      "K4 : 2.12320822666e-07\n",
      "EM4 : 2.03675201466e-08\n",
      "PZDR : 0.0\n"
     ]
    }
   ],
   "source": [
    "s_idx=argsort(rfr.feature_importances_)[::-1]\n",
    "importance = featsT.columns[s_idx]\n",
    "for name,imp in zip(importance,rfr.feature_importances_[s_idx]):\n",
    "    print name,':',imp"
   ]
  },
  {
   "cell_type": "code",
   "execution_count": null,
   "metadata": {
    "collapsed": true
   },
   "outputs": [],
   "source": []
  }
 ],
 "metadata": {
  "kernelspec": {
   "display_name": "Python 2",
   "language": "python",
   "name": "python2"
  },
  "language_info": {
   "codemirror_mode": {
    "name": "ipython",
    "version": 2
   },
   "file_extension": ".py",
   "mimetype": "text/x-python",
   "name": "python",
   "nbconvert_exporter": "python",
   "pygments_lexer": "ipython2",
   "version": "2.7.11"
  }
 },
 "nbformat": 4,
 "nbformat_minor": 0
}
