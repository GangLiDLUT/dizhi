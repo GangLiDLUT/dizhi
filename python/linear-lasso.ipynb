{
 "cells": [
  {
   "cell_type": "code",
   "execution_count": 4,
   "metadata": {
    "collapsed": false
   },
   "outputs": [
    {
     "name": "stdout",
     "output_type": "stream",
     "text": [
      "Populating the interactive namespace from numpy and matplotlib\n"
     ]
    }
   ],
   "source": [
    "%pylab inline\n",
    "%matplotlib inline\n",
    "import pandas as pd\n",
    "\n",
    "store = pd.HDFStore('store.h5')\n",
    "feats = store['feats']\n",
    "labs = store['labs']"
   ]
  },
  {
   "cell_type": "markdown",
   "metadata": {},
   "source": [
    "# select subset of data"
   ]
  },
  {
   "cell_type": "code",
   "execution_count": 5,
   "metadata": {
    "collapsed": false
   },
   "outputs": [],
   "source": [
    "sel=(labs.F!=0)\n",
    "labF = labs[sel].F\n",
    "featsF = feats[sel]"
   ]
  },
  {
   "cell_type": "code",
   "execution_count": 6,
   "metadata": {
    "collapsed": true
   },
   "outputs": [],
   "source": [
    "sel2=(labs['T']!=0)\n",
    "labT = labs[sel2].T\n",
    "featsT = feats[sel2]"
   ]
  },
  {
   "cell_type": "code",
   "execution_count": 7,
   "metadata": {
    "collapsed": true
   },
   "outputs": [],
   "source": [
    "labV = labs.V\n",
    "featsV = feats"
   ]
  },
  {
   "cell_type": "markdown",
   "metadata": {},
   "source": [
    "# preprocessing the data"
   ]
  },
  {
   "cell_type": "code",
   "execution_count": 8,
   "metadata": {
    "collapsed": false
   },
   "outputs": [
    {
     "data": {
      "text/html": [
       "<div>\n",
       "<table border=\"1\" class=\"dataframe\">\n",
       "  <thead>\n",
       "    <tr style=\"text-align: right;\">\n",
       "      <th></th>\n",
       "      <th>0</th>\n",
       "      <th>1</th>\n",
       "      <th>2</th>\n",
       "      <th>3</th>\n",
       "      <th>4</th>\n",
       "      <th>5</th>\n",
       "      <th>6</th>\n",
       "      <th>7</th>\n",
       "      <th>8</th>\n",
       "      <th>9</th>\n",
       "      <th>...</th>\n",
       "      <th>71</th>\n",
       "      <th>72</th>\n",
       "      <th>73</th>\n",
       "      <th>74</th>\n",
       "      <th>75</th>\n",
       "      <th>76</th>\n",
       "      <th>77</th>\n",
       "      <th>78</th>\n",
       "      <th>79</th>\n",
       "      <th>80</th>\n",
       "    </tr>\n",
       "  </thead>\n",
       "  <tbody>\n",
       "    <tr>\n",
       "      <th>count</th>\n",
       "      <td>6.598100e+04</td>\n",
       "      <td>6.598100e+04</td>\n",
       "      <td>6.598100e+04</td>\n",
       "      <td>6.598100e+04</td>\n",
       "      <td>6.598100e+04</td>\n",
       "      <td>6.598100e+04</td>\n",
       "      <td>6.598100e+04</td>\n",
       "      <td>6.598100e+04</td>\n",
       "      <td>6.598100e+04</td>\n",
       "      <td>6.598100e+04</td>\n",
       "      <td>...</td>\n",
       "      <td>6.598100e+04</td>\n",
       "      <td>6.598100e+04</td>\n",
       "      <td>6.598100e+04</td>\n",
       "      <td>6.598100e+04</td>\n",
       "      <td>6.598100e+04</td>\n",
       "      <td>6.598100e+04</td>\n",
       "      <td>6.598100e+04</td>\n",
       "      <td>6.598100e+04</td>\n",
       "      <td>6.598100e+04</td>\n",
       "      <td>6.598100e+04</td>\n",
       "    </tr>\n",
       "    <tr>\n",
       "      <th>mean</th>\n",
       "      <td>-1.387576e-15</td>\n",
       "      <td>8.592225e-15</td>\n",
       "      <td>3.063634e-14</td>\n",
       "      <td>1.010850e-15</td>\n",
       "      <td>-6.561019e-15</td>\n",
       "      <td>-1.834810e-15</td>\n",
       "      <td>1.579212e-14</td>\n",
       "      <td>-1.898749e-15</td>\n",
       "      <td>4.959254e-15</td>\n",
       "      <td>7.736020e-16</td>\n",
       "      <td>...</td>\n",
       "      <td>-5.100662e-14</td>\n",
       "      <td>-1.088356e-13</td>\n",
       "      <td>-3.982288e-15</td>\n",
       "      <td>-8.137811e-14</td>\n",
       "      <td>-6.894407e-14</td>\n",
       "      <td>4.183541e-14</td>\n",
       "      <td>-9.388432e-14</td>\n",
       "      <td>5.573396e-14</td>\n",
       "      <td>-1.477149e-13</td>\n",
       "      <td>-5.091256e-14</td>\n",
       "    </tr>\n",
       "    <tr>\n",
       "      <th>std</th>\n",
       "      <td>1.000008e+00</td>\n",
       "      <td>1.000008e+00</td>\n",
       "      <td>1.000008e+00</td>\n",
       "      <td>1.000008e+00</td>\n",
       "      <td>1.000008e+00</td>\n",
       "      <td>1.000008e+00</td>\n",
       "      <td>1.000008e+00</td>\n",
       "      <td>1.000008e+00</td>\n",
       "      <td>1.000008e+00</td>\n",
       "      <td>1.000008e+00</td>\n",
       "      <td>...</td>\n",
       "      <td>1.000008e+00</td>\n",
       "      <td>1.000008e+00</td>\n",
       "      <td>1.000008e+00</td>\n",
       "      <td>1.000008e+00</td>\n",
       "      <td>1.000008e+00</td>\n",
       "      <td>1.000008e+00</td>\n",
       "      <td>1.000008e+00</td>\n",
       "      <td>1.000008e+00</td>\n",
       "      <td>1.000008e+00</td>\n",
       "      <td>1.000008e+00</td>\n",
       "    </tr>\n",
       "    <tr>\n",
       "      <th>min</th>\n",
       "      <td>-2.749472e+00</td>\n",
       "      <td>-2.680238e+00</td>\n",
       "      <td>-8.900352e+00</td>\n",
       "      <td>-5.129760e+00</td>\n",
       "      <td>-2.969182e+00</td>\n",
       "      <td>-4.610411e+00</td>\n",
       "      <td>-3.504032e+00</td>\n",
       "      <td>-2.520199e+00</td>\n",
       "      <td>-1.868281e+00</td>\n",
       "      <td>-2.515418e+00</td>\n",
       "      <td>...</td>\n",
       "      <td>-6.367119e-01</td>\n",
       "      <td>-3.873525e-01</td>\n",
       "      <td>-5.182901e-01</td>\n",
       "      <td>-3.243084e-01</td>\n",
       "      <td>-4.157719e-01</td>\n",
       "      <td>-4.108988e-01</td>\n",
       "      <td>-3.434361e-01</td>\n",
       "      <td>-4.144036e-01</td>\n",
       "      <td>-2.418851e-01</td>\n",
       "      <td>-3.333061e-01</td>\n",
       "    </tr>\n",
       "    <tr>\n",
       "      <th>25%</th>\n",
       "      <td>-5.632710e-01</td>\n",
       "      <td>-4.002058e-01</td>\n",
       "      <td>-7.193572e-01</td>\n",
       "      <td>-6.272919e-01</td>\n",
       "      <td>-7.029226e-01</td>\n",
       "      <td>-7.266531e-01</td>\n",
       "      <td>-7.463593e-01</td>\n",
       "      <td>-8.138875e-01</td>\n",
       "      <td>-6.440530e-01</td>\n",
       "      <td>-5.787095e-01</td>\n",
       "      <td>...</td>\n",
       "      <td>-6.367119e-01</td>\n",
       "      <td>-3.873525e-01</td>\n",
       "      <td>-5.182901e-01</td>\n",
       "      <td>-3.243084e-01</td>\n",
       "      <td>-4.157719e-01</td>\n",
       "      <td>-4.108988e-01</td>\n",
       "      <td>-3.434361e-01</td>\n",
       "      <td>-4.144036e-01</td>\n",
       "      <td>-2.418851e-01</td>\n",
       "      <td>-3.333061e-01</td>\n",
       "    </tr>\n",
       "    <tr>\n",
       "      <th>50%</th>\n",
       "      <td>-1.876791e-02</td>\n",
       "      <td>1.422922e-01</td>\n",
       "      <td>1.505320e-01</td>\n",
       "      <td>4.849705e-02</td>\n",
       "      <td>4.360684e-02</td>\n",
       "      <td>1.231636e-02</td>\n",
       "      <td>5.370683e-02</td>\n",
       "      <td>1.204881e-01</td>\n",
       "      <td>-3.433656e-01</td>\n",
       "      <td>-7.066215e-02</td>\n",
       "      <td>...</td>\n",
       "      <td>-6.367119e-01</td>\n",
       "      <td>-2.829047e-01</td>\n",
       "      <td>-1.674469e-01</td>\n",
       "      <td>-3.243084e-01</td>\n",
       "      <td>-4.157719e-01</td>\n",
       "      <td>-4.108988e-01</td>\n",
       "      <td>-3.434361e-01</td>\n",
       "      <td>-4.144036e-01</td>\n",
       "      <td>-2.418851e-01</td>\n",
       "      <td>-3.333061e-01</td>\n",
       "    </tr>\n",
       "    <tr>\n",
       "      <th>75%</th>\n",
       "      <td>6.356161e-01</td>\n",
       "      <td>6.781881e-01</td>\n",
       "      <td>7.771972e-01</td>\n",
       "      <td>6.417231e-01</td>\n",
       "      <td>7.042240e-01</td>\n",
       "      <td>6.859605e-01</td>\n",
       "      <td>6.804507e-01</td>\n",
       "      <td>7.511406e-01</td>\n",
       "      <td>2.708958e-01</td>\n",
       "      <td>6.394651e-01</td>\n",
       "      <td>...</td>\n",
       "      <td>9.064607e-01</td>\n",
       "      <td>-1.784570e-01</td>\n",
       "      <td>4.556502e-02</td>\n",
       "      <td>-3.243084e-01</td>\n",
       "      <td>-4.157719e-01</td>\n",
       "      <td>-4.108988e-01</td>\n",
       "      <td>-3.434361e-01</td>\n",
       "      <td>-4.144036e-01</td>\n",
       "      <td>-2.418851e-01</td>\n",
       "      <td>-3.333061e-01</td>\n",
       "    </tr>\n",
       "    <tr>\n",
       "      <th>max</th>\n",
       "      <td>4.303618e+00</td>\n",
       "      <td>1.747780e+00</td>\n",
       "      <td>3.057802e+00</td>\n",
       "      <td>2.732011e+00</td>\n",
       "      <td>3.036649e+00</td>\n",
       "      <td>3.039352e+00</td>\n",
       "      <td>3.614928e+00</td>\n",
       "      <td>2.022685e+00</td>\n",
       "      <td>3.737392e+00</td>\n",
       "      <td>3.385087e+00</td>\n",
       "      <td>...</td>\n",
       "      <td>1.788274e+00</td>\n",
       "      <td>3.790557e+00</td>\n",
       "      <td>4.243153e+00</td>\n",
       "      <td>5.868133e+00</td>\n",
       "      <td>2.562441e+00</td>\n",
       "      <td>2.903218e+00</td>\n",
       "      <td>4.313164e+00</td>\n",
       "      <td>2.734959e+00</td>\n",
       "      <td>4.848671e+00</td>\n",
       "      <td>4.466358e+00</td>\n",
       "    </tr>\n",
       "  </tbody>\n",
       "</table>\n",
       "<p>8 rows × 81 columns</p>\n",
       "</div>"
      ],
      "text/plain": [
       "                 0             1             2             3             4   \\\n",
       "count  6.598100e+04  6.598100e+04  6.598100e+04  6.598100e+04  6.598100e+04   \n",
       "mean  -1.387576e-15  8.592225e-15  3.063634e-14  1.010850e-15 -6.561019e-15   \n",
       "std    1.000008e+00  1.000008e+00  1.000008e+00  1.000008e+00  1.000008e+00   \n",
       "min   -2.749472e+00 -2.680238e+00 -8.900352e+00 -5.129760e+00 -2.969182e+00   \n",
       "25%   -5.632710e-01 -4.002058e-01 -7.193572e-01 -6.272919e-01 -7.029226e-01   \n",
       "50%   -1.876791e-02  1.422922e-01  1.505320e-01  4.849705e-02  4.360684e-02   \n",
       "75%    6.356161e-01  6.781881e-01  7.771972e-01  6.417231e-01  7.042240e-01   \n",
       "max    4.303618e+00  1.747780e+00  3.057802e+00  2.732011e+00  3.036649e+00   \n",
       "\n",
       "                 5             6             7             8             9   \\\n",
       "count  6.598100e+04  6.598100e+04  6.598100e+04  6.598100e+04  6.598100e+04   \n",
       "mean  -1.834810e-15  1.579212e-14 -1.898749e-15  4.959254e-15  7.736020e-16   \n",
       "std    1.000008e+00  1.000008e+00  1.000008e+00  1.000008e+00  1.000008e+00   \n",
       "min   -4.610411e+00 -3.504032e+00 -2.520199e+00 -1.868281e+00 -2.515418e+00   \n",
       "25%   -7.266531e-01 -7.463593e-01 -8.138875e-01 -6.440530e-01 -5.787095e-01   \n",
       "50%    1.231636e-02  5.370683e-02  1.204881e-01 -3.433656e-01 -7.066215e-02   \n",
       "75%    6.859605e-01  6.804507e-01  7.511406e-01  2.708958e-01  6.394651e-01   \n",
       "max    3.039352e+00  3.614928e+00  2.022685e+00  3.737392e+00  3.385087e+00   \n",
       "\n",
       "           ...                 71            72            73            74  \\\n",
       "count      ...       6.598100e+04  6.598100e+04  6.598100e+04  6.598100e+04   \n",
       "mean       ...      -5.100662e-14 -1.088356e-13 -3.982288e-15 -8.137811e-14   \n",
       "std        ...       1.000008e+00  1.000008e+00  1.000008e+00  1.000008e+00   \n",
       "min        ...      -6.367119e-01 -3.873525e-01 -5.182901e-01 -3.243084e-01   \n",
       "25%        ...      -6.367119e-01 -3.873525e-01 -5.182901e-01 -3.243084e-01   \n",
       "50%        ...      -6.367119e-01 -2.829047e-01 -1.674469e-01 -3.243084e-01   \n",
       "75%        ...       9.064607e-01 -1.784570e-01  4.556502e-02 -3.243084e-01   \n",
       "max        ...       1.788274e+00  3.790557e+00  4.243153e+00  5.868133e+00   \n",
       "\n",
       "                 75            76            77            78            79  \\\n",
       "count  6.598100e+04  6.598100e+04  6.598100e+04  6.598100e+04  6.598100e+04   \n",
       "mean  -6.894407e-14  4.183541e-14 -9.388432e-14  5.573396e-14 -1.477149e-13   \n",
       "std    1.000008e+00  1.000008e+00  1.000008e+00  1.000008e+00  1.000008e+00   \n",
       "min   -4.157719e-01 -4.108988e-01 -3.434361e-01 -4.144036e-01 -2.418851e-01   \n",
       "25%   -4.157719e-01 -4.108988e-01 -3.434361e-01 -4.144036e-01 -2.418851e-01   \n",
       "50%   -4.157719e-01 -4.108988e-01 -3.434361e-01 -4.144036e-01 -2.418851e-01   \n",
       "75%   -4.157719e-01 -4.108988e-01 -3.434361e-01 -4.144036e-01 -2.418851e-01   \n",
       "max    2.562441e+00  2.903218e+00  4.313164e+00  2.734959e+00  4.848671e+00   \n",
       "\n",
       "                 80  \n",
       "count  6.598100e+04  \n",
       "mean  -5.091256e-14  \n",
       "std    1.000008e+00  \n",
       "min   -3.333061e-01  \n",
       "25%   -3.333061e-01  \n",
       "50%   -3.333061e-01  \n",
       "75%   -3.333061e-01  \n",
       "max    4.466358e+00  \n",
       "\n",
       "[8 rows x 81 columns]"
      ]
     },
     "execution_count": 8,
     "metadata": {},
     "output_type": "execute_result"
    }
   ],
   "source": [
    "from sklearn import preprocessing\n",
    "import numpy as np\n",
    "\n",
    "sfeatsF = pd.DataFrame(preprocessing.scale(featsF))\n",
    "sfeatsF.describe()"
   ]
  },
  {
   "cell_type": "markdown",
   "metadata": {},
   "source": [
    "# split train and validation set"
   ]
  },
  {
   "cell_type": "code",
   "execution_count": 9,
   "metadata": {
    "collapsed": false
   },
   "outputs": [
    {
     "name": "stdout",
     "output_type": "stream",
     "text": [
      "(44207, 81) (21774, 81) (44207,) (21774,)\n"
     ]
    }
   ],
   "source": [
    "from sklearn.cross_validation import train_test_split\n",
    "X_F_train, X_F_test, Y_F_train, Y_F_test = train_test_split(sfeatsF, labF, test_size=0.33, random_state=42)\n",
    "print X_F_train.shape, X_F_test.shape, Y_F_train.shape, Y_F_test.shape"
   ]
  },
  {
   "cell_type": "markdown",
   "metadata": {},
   "source": [
    "# use linear model"
   ]
  },
  {
   "cell_type": "code",
   "execution_count": 10,
   "metadata": {
    "collapsed": false
   },
   "outputs": [
    {
     "data": {
      "text/plain": [
       "[<matplotlib.lines.Line2D at 0x11cf65e50>]"
      ]
     },
     "execution_count": 10,
     "metadata": {},
     "output_type": "execute_result"
    },
    {
     "data": {
      "image/png": "[encoded data removed]",
      "text/plain": [
       "<matplotlib.figure.Figure at 0x117576f50>"
      ]
     },
     "metadata": {},
     "output_type": "display_data"
    }
   ],
   "source": [
    "from sklearn import linear_model\n",
    "lr = linear_model.LinearRegression()\n",
    "lr.fit(X_F_train,Y_F_train)\n",
    "plot(lr.coef_,'o')"
   ]
  },
  {
   "cell_type": "code",
   "execution_count": 11,
   "metadata": {
    "collapsed": false
   },
   "outputs": [
    {
     "data": {
      "text/plain": [
       "0.99999971044002023"
      ]
     },
     "execution_count": 11,
     "metadata": {},
     "output_type": "execute_result"
    }
   ],
   "source": [
    "lr.score(X_F_test,Y_F_test)"
   ]
  },
  {
   "cell_type": "code",
   "execution_count": 12,
   "metadata": {
    "collapsed": false
   },
   "outputs": [
    {
     "name": "stdout",
     "output_type": "stream",
     "text": [
      "1.81636920576\n"
     ]
    }
   ],
   "source": [
    "Y_pred = lr.predict(X_F_test)\n",
    "sme = sum((Y_pred-Y_F_test)**2)/len(Y_pred)\n",
    "rsme = sqrt(sme)\n",
    "print rsme"
   ]
  },
  {
   "cell_type": "code",
   "execution_count": 13,
   "metadata": {
    "collapsed": false
   },
   "outputs": [
    {
     "data": {
      "text/plain": [
       "15918.525046844965"
      ]
     },
     "execution_count": 13,
     "metadata": {},
     "output_type": "execute_result"
    }
   ],
   "source": [
    "mean(Y_F_test)"
   ]
  },
  {
   "cell_type": "code",
   "execution_count": 14,
   "metadata": {
    "collapsed": false
   },
   "outputs": [
    {
     "name": "stdout",
     "output_type": "stream",
     "text": [
      "7 features are highly correlated\n"
     ]
    },
    {
     "data": {
      "text/plain": [
       "Index([u'PZDR', u'Y4', u'FI4', u'EM4', u'P4', u'SITA4', u'K4'], dtype='object')"
      ]
     },
     "execution_count": 14,
     "metadata": {},
     "output_type": "execute_result"
    }
   ],
   "source": [
    "highly_correlated = (abs(lr.coef_)>1e6)\n",
    "print '%d features are highly correlated'%sum(highly_correlated)\n",
    "featsF.columns[highly_correlated]"
   ]
  },
  {
   "cell_type": "markdown",
   "metadata": {},
   "source": [
    "# use linear model with lasso"
   ]
  },
  {
   "cell_type": "code",
   "execution_count": 15,
   "metadata": {
    "collapsed": false
   },
   "outputs": [
    {
     "data": {
      "text/plain": [
       "Lasso(alpha=0.1, copy_X=True, fit_intercept=True, max_iter=1000,\n",
       "   normalize=False, positive=False, precompute=False, random_state=None,\n",
       "   selection='cyclic', tol=0.0001, warm_start=False)"
      ]
     },
     "execution_count": 15,
     "metadata": {},
     "output_type": "execute_result"
    }
   ],
   "source": [
    "from sklearn import linear_model\n",
    "lasso = linear_model.Lasso(alpha=0.1)\n",
    "lasso.fit(sfeatsF,labF)"
   ]
  },
  {
   "cell_type": "code",
   "execution_count": 16,
   "metadata": {
    "collapsed": false
   },
   "outputs": [
    {
     "data": {
      "text/plain": [
       "77"
      ]
     },
     "execution_count": 16,
     "metadata": {},
     "output_type": "execute_result"
    }
   ],
   "source": [
    "lowly_correlated= (lasso.coef_==0)\n",
    "sum(lowly_correlated)"
   ]
  },
  {
   "cell_type": "code",
   "execution_count": 17,
   "metadata": {
    "collapsed": false
   },
   "outputs": [
    {
     "data": {
      "text/plain": [
       "Index([u'FPA', u'FPB', u'FPC', u'FPD'], dtype='object')"
      ]
     },
     "execution_count": 17,
     "metadata": {},
     "output_type": "execute_result"
    }
   ],
   "source": [
    "featsF.columns[~lowly_correlated]"
   ]
  },
  {
   "cell_type": "code",
   "execution_count": 18,
   "metadata": {
    "collapsed": false
   },
   "outputs": [
    {
     "data": {
      "text/plain": [
       "[<matplotlib.lines.Line2D at 0x124c8d950>]"
      ]
     },
     "execution_count": 18,
     "metadata": {},
     "output_type": "execute_result"
    },
    {
     "data": {
      "image/png": "[encoded data removed]",
      "text/plain": [
       "<matplotlib.figure.Figure at 0x11cfbe410>"
      ]
     },
     "metadata": {},
     "output_type": "display_data"
    }
   ],
   "source": [
    "plot(lasso.coef_,'o')"
   ]
  },
  {
   "cell_type": "code",
   "execution_count": 19,
   "metadata": {
    "collapsed": false
   },
   "outputs": [
    {
     "data": {
      "text/plain": [
       "0.99999970894081691"
      ]
     },
     "execution_count": 19,
     "metadata": {},
     "output_type": "execute_result"
    }
   ],
   "source": [
    "lasso.score(X_F_test,Y_F_test)"
   ]
  },
  {
   "cell_type": "markdown",
   "metadata": {},
   "source": [
    "# correlation measure"
   ]
  },
  {
   "cell_type": "code",
   "execution_count": 20,
   "metadata": {
    "collapsed": true
   },
   "outputs": [],
   "source": [
    "featsetA=['PZDR','Y4','FI4','EM4','P4','SITA4','K4']\n",
    "featsetB=['FPA','FPB','FPC','FPD']"
   ]
  },
  {
   "cell_type": "markdown",
   "metadata": {},
   "source": [
    "by pca measure"
   ]
  },
  {
   "cell_type": "code",
   "execution_count": 21,
   "metadata": {
    "collapsed": false
   },
   "outputs": [
    {
     "data": {
      "text/html": [
       "<div>\n",
       "<table border=\"1\" class=\"dataframe\">\n",
       "  <thead>\n",
       "    <tr style=\"text-align: right;\">\n",
       "      <th></th>\n",
       "      <th>PZDR</th>\n",
       "      <th>Y4</th>\n",
       "      <th>FI4</th>\n",
       "      <th>EM4</th>\n",
       "      <th>P4</th>\n",
       "      <th>SITA4</th>\n",
       "      <th>K4</th>\n",
       "      <th>FPA</th>\n",
       "      <th>FPB</th>\n",
       "      <th>FPC</th>\n",
       "      <th>FPD</th>\n",
       "    </tr>\n",
       "  </thead>\n",
       "  <tbody>\n",
       "    <tr>\n",
       "      <th>0</th>\n",
       "      <td>0</td>\n",
       "      <td>0</td>\n",
       "      <td>0</td>\n",
       "      <td>0</td>\n",
       "      <td>0</td>\n",
       "      <td>0</td>\n",
       "      <td>0</td>\n",
       "      <td>71.62905</td>\n",
       "      <td>127.0255</td>\n",
       "      <td>67.39005</td>\n",
       "      <td>53.60243</td>\n",
       "    </tr>\n",
       "    <tr>\n",
       "      <th>1</th>\n",
       "      <td>0</td>\n",
       "      <td>0</td>\n",
       "      <td>0</td>\n",
       "      <td>0</td>\n",
       "      <td>0</td>\n",
       "      <td>0</td>\n",
       "      <td>0</td>\n",
       "      <td>72.13542</td>\n",
       "      <td>126.6927</td>\n",
       "      <td>68.01215</td>\n",
       "      <td>52.67651</td>\n",
       "    </tr>\n",
       "    <tr>\n",
       "      <th>2</th>\n",
       "      <td>0</td>\n",
       "      <td>0</td>\n",
       "      <td>0</td>\n",
       "      <td>0</td>\n",
       "      <td>0</td>\n",
       "      <td>0</td>\n",
       "      <td>0</td>\n",
       "      <td>74.75405</td>\n",
       "      <td>126.3744</td>\n",
       "      <td>68.96702</td>\n",
       "      <td>49.66724</td>\n",
       "    </tr>\n",
       "    <tr>\n",
       "      <th>3</th>\n",
       "      <td>0</td>\n",
       "      <td>0</td>\n",
       "      <td>0</td>\n",
       "      <td>0</td>\n",
       "      <td>0</td>\n",
       "      <td>0</td>\n",
       "      <td>0</td>\n",
       "      <td>72.98901</td>\n",
       "      <td>127.1412</td>\n",
       "      <td>67.67940</td>\n",
       "      <td>53.97858</td>\n",
       "    </tr>\n",
       "    <tr>\n",
       "      <th>4</th>\n",
       "      <td>0</td>\n",
       "      <td>0</td>\n",
       "      <td>0</td>\n",
       "      <td>0</td>\n",
       "      <td>0</td>\n",
       "      <td>0</td>\n",
       "      <td>0</td>\n",
       "      <td>72.26563</td>\n",
       "      <td>126.9965</td>\n",
       "      <td>68.17130</td>\n",
       "      <td>55.70023</td>\n",
       "    </tr>\n",
       "  </tbody>\n",
       "</table>\n",
       "</div>"
      ],
      "text/plain": [
       "   PZDR  Y4  FI4  EM4  P4  SITA4  K4       FPA       FPB       FPC       FPD\n",
       "0     0   0    0    0   0      0   0  71.62905  127.0255  67.39005  53.60243\n",
       "1     0   0    0    0   0      0   0  72.13542  126.6927  68.01215  52.67651\n",
       "2     0   0    0    0   0      0   0  74.75405  126.3744  68.96702  49.66724\n",
       "3     0   0    0    0   0      0   0  72.98901  127.1412  67.67940  53.97858\n",
       "4     0   0    0    0   0      0   0  72.26563  126.9965  68.17130  55.70023"
      ]
     },
     "execution_count": 21,
     "metadata": {},
     "output_type": "execute_result"
    }
   ],
   "source": [
    "import numpy as np\n",
    "from sklearn.decomposition import PCA\n",
    "sel_feats = featsF[featsetA+featsetB]\n",
    "sel_feats.head()"
   ]
  },
  {
   "cell_type": "code",
   "execution_count": 22,
   "metadata": {
    "collapsed": false,
    "scrolled": true
   },
   "outputs": [
    {
     "name": "stdout",
     "output_type": "stream",
     "text": [
      "0.940419762843\n"
     ]
    }
   ],
   "source": [
    "pca = PCA(n_components=4)\n",
    "pca.fit(sel_feats)\n",
    "print(sum(pca.explained_variance_ratio_))"
   ]
  },
  {
   "cell_type": "markdown",
   "metadata": {},
   "source": [
    "# CCA"
   ]
  },
  {
   "cell_type": "code",
   "execution_count": 14,
   "metadata": {
    "collapsed": false
   },
   "outputs": [
    {
     "name": "stdout",
     "output_type": "stream",
     "text": [
      "Populating the interactive namespace from numpy and matplotlib\n"
     ]
    }
   ],
   "source": [
    "%pylab inline\n",
    "%matplotlib inline\n",
    "import pandas as pd\n",
    "import numpy as np\n",
    "\n",
    "store = pd.HDFStore('store.h5')\n",
    "feats = store['feats']\n",
    "labs = store['labs']\n",
    "\n",
    "sel=(labs.F!=0)\n",
    "labF = labs[sel].F\n",
    "featsF = feats[sel]\n",
    "featsetA=['PZDR','Y4','FI4','EM4','P4','SITA4','K4']\n",
    "featsetB=['FPA','FPB','FPC','FPD']"
   ]
  },
  {
   "cell_type": "code",
   "execution_count": 15,
   "metadata": {
    "collapsed": false
   },
   "outputs": [
    {
     "name": "stdout",
     "output_type": "stream",
     "text": [
      "(65981, 7) (65981, 4)\n"
     ]
    }
   ],
   "source": [
    "from sklearn import preprocessing\n",
    "X=featsF[featsetA]\n",
    "Y=featsF[featsetB]\n",
    "X=preprocessing.scale(X)\n",
    "Y=preprocessing.scale(Y)\n",
    "\n",
    "print X.shape, Y.shape"
   ]
  },
  {
   "cell_type": "code",
   "execution_count": 16,
   "metadata": {
    "collapsed": false,
    "scrolled": false
   },
   "outputs": [
    {
     "data": {
      "text/plain": [
       "([array([ 65981.,      0.,      0.,      0.,      0.,      0.,      0.,\n",
       "              0.,      0.,      0.]),\n",
       "  array([ 56240.,      0.,      0.,      0.,      0.,   9741.,      0.,\n",
       "              0.,      0.,      0.]),\n",
       "  array([ 56240.,      0.,      0.,      0.,   3673.,   3514.,   2554.,\n",
       "              0.,      0.,      0.]),\n",
       "  array([ 56240.,   2958.,    715.,      0.,   3514.,      0.,      0.,\n",
       "              0.,   2554.,      0.]),\n",
       "  array([ 56240.,      0.,      0.,      0.,   6068.,   3673.,      0.,\n",
       "              0.,      0.,      0.]),\n",
       "  array([ 62308.,      0.,      0.,      0.,      0.,      0.,      0.,\n",
       "              0.,   2958.,    715.]),\n",
       "  array([ 56240.,   3673.,      0.,   3514.,      0.,      0.,      0.,\n",
       "              0.,      0.,   2554.])],\n",
       " array([-0.41577187,  0.11067242,  0.63711671,  1.163561  ,  1.69000529,\n",
       "         2.21644958,  2.74289387,  3.26933816,  3.79578245,  4.32222674,\n",
       "         4.84867103]),\n",
       " <a list of 7 Lists of Patches objects>)"
      ]
     },
     "execution_count": 16,
     "metadata": {},
     "output_type": "execute_result"
    },
    {
     "data": {
      "image/png": "[encoded data removed]",
      "text/plain": [
       "<matplotlib.figure.Figure at 0x110cdd810>"
      ]
     },
     "metadata": {},
     "output_type": "display_data"
    }
   ],
   "source": [
    "hist(X)"
   ]
  },
  {
   "cell_type": "code",
   "execution_count": 17,
   "metadata": {
    "collapsed": false
   },
   "outputs": [
    {
     "data": {
      "text/plain": [
       "(array([   145.,    332.,   5160.,   5905.,   8002.,  14285.,  15777.,\n",
       "         11814.,   2842.,   1719.]),\n",
       " array([  4556.646 ,   6520.7544,   8484.8628,  10448.9712,  12413.0796,\n",
       "         14377.188 ,  16341.2964,  18305.4048,  20269.5132,  22233.6216,\n",
       "         24197.73  ]),\n",
       " <a list of 10 Patch objects>)"
      ]
     },
     "execution_count": 17,
     "metadata": {},
     "output_type": "execute_result"
    },
    {
     "data": {
      "image/png": "[encoded data removed]",
      "text/plain": [
       "<matplotlib.figure.Figure at 0x110cbbb90>"
      ]
     },
     "metadata": {},
     "output_type": "display_data"
    }
   ],
   "source": [
    "hist(labF)"
   ]
  },
  {
   "cell_type": "code",
   "execution_count": 18,
   "metadata": {
    "collapsed": false
   },
   "outputs": [
    {
     "data": {
      "text/plain": [
       "([array([  0.00000000e+00,   3.00000000e+00,   1.86000000e+02,\n",
       "           7.25400000e+03,   1.48260000e+04,   1.81310000e+04,\n",
       "           1.63790000e+04,   7.92600000e+03,   1.13700000e+03,\n",
       "           1.39000000e+02]),\n",
       "  array([  6.50000000e+01,   4.15000000e+02,   8.22000000e+02,\n",
       "           3.78900000e+03,   1.55210000e+04,   2.27680000e+04,\n",
       "           1.25300000e+04,   8.90800000e+03,   1.14200000e+03,\n",
       "           2.10000000e+01]),\n",
       "  array([     0.,     77.,    819.,   5464.,  13824.,  21028.,  15245.,\n",
       "           8537.,    444.,    543.]),\n",
       "  array([     0.,      0.,    839.,   8887.,   9613.,  19548.,  18396.,\n",
       "           8164.,    534.,      0.])],\n",
       " array([-4.61041094, -3.78787709, -2.96534323, -2.14280938, -1.32027553,\n",
       "        -0.49774167,  0.32479218,  1.14732604,  1.96985989,  2.79239374,\n",
       "         3.6149276 ]),\n",
       " <a list of 4 Lists of Patches objects>)"
      ]
     },
     "execution_count": 18,
     "metadata": {},
     "output_type": "execute_result"
    },
    {
     "data": {
      "image/png": "[encoded data removed]",
      "text/plain": [
       "<matplotlib.figure.Figure at 0x110cc2d10>"
      ]
     },
     "metadata": {},
     "output_type": "display_data"
    }
   ],
   "source": [
    "hist(Y)"
   ]
  },
  {
   "cell_type": "markdown",
   "metadata": {},
   "source": [
    "# explore the feature find by linear regression"
   ]
  },
  {
   "cell_type": "code",
   "execution_count": 81,
   "metadata": {
    "collapsed": false
   },
   "outputs": [
    {
     "name": "stdout",
     "output_type": "stream",
     "text": [
      "Populating the interactive namespace from numpy and matplotlib\n"
     ]
    }
   ],
   "source": [
    "%pylab inline\n",
    "%matplotlib inline\n",
    "import pandas as pd\n",
    "import numpy as np\n",
    "\n",
    "store = pd.HDFStore('store.h5')\n",
    "feats = store['feats']\n",
    "labs = store['labs']\n",
    "\n",
    "sel=(labs.F!=0)\n",
    "labF = labs[sel].F\n",
    "featsF = feats[sel]\n",
    "featsetA=['PZDR','Y4','FI4','EM4','P4','SITA4','K4']\n",
    "featsetB=['FPA','FPB','FPC','FPD']"
   ]
  },
  {
   "cell_type": "code",
   "execution_count": 82,
   "metadata": {
    "collapsed": false
   },
   "outputs": [
    {
     "name": "stdout",
     "output_type": "stream",
     "text": [
      "9741\n"
     ]
    }
   ],
   "source": [
    "from sklearn import preprocessing\n",
    "X=featsF[featsetA]\n",
    "Y=featsF[featsetB]\n",
    "idx = (X.EM4==0) & (X.FI4==0) & (X.K4==0) &(X.P4==0) & (X.PZDR==0)& (X.SITA4==0)& (X.Y4==0)\n",
    "#idx = (X.EM4==0) | (X.FI4==0) | (X.K4==0) |(X.P4==0) | (X.PZDR==0)| (X.SITA4==0)| (X.Y4==0)\n",
    "idx = ~idx\n",
    "print sum(idx)\n",
    "featsF2 = featsF[idx]\n",
    "dX=featsF2[featsetA]\n",
    "dY=featsF2[featsetB]"
   ]
  },
  {
   "cell_type": "code",
   "execution_count": 89,
   "metadata": {
    "collapsed": false
   },
   "outputs": [
    {
     "data": {
      "text/plain": [
       "(array([ 2958.,     0.,   715.,     0.,  1403.,     0.,  2111.,     0.,\n",
       "            0.,  2554.]),\n",
       " array([ 20.5 ,  21.45,  22.4 ,  23.35,  24.3 ,  25.25,  26.2 ,  27.15,\n",
       "         28.1 ,  29.05,  30.  ]),\n",
       " <a list of 10 Patch objects>)"
      ]
     },
     "execution_count": 89,
     "metadata": {},
     "output_type": "execute_result"
    },
    {
     "data": {
      "image/png": "[encoded data removed]",
      "text/plain": [
       "<matplotlib.figure.Figure at 0x10d3abc90>"
      ]
     },
     "metadata": {},
     "output_type": "display_data"
    }
   ],
   "source": [
    "hist(dX.FI4.as_matrix())"
   ]
  },
  {
   "cell_type": "code",
   "execution_count": 64,
   "metadata": {
    "collapsed": false
   },
   "outputs": [
    {
     "name": "stdout",
     "output_type": "stream",
     "text": [
      "9741\n",
      "(9741, 6) (9741, 4)\n"
     ]
    }
   ],
   "source": [
    "X=preprocessing.scale(dX)\n",
    "Y=preprocessing.scale(dY)\n",
    "X=X[:,1:]\n",
    "print X.shape, Y.shape"
   ]
  },
  {
   "cell_type": "code",
   "execution_count": 79,
   "metadata": {
    "collapsed": false
   },
   "outputs": [
    {
     "data": {
      "text/plain": [
       "-0.05747125031711852"
      ]
     },
     "execution_count": 79,
     "metadata": {},
     "output_type": "execute_result"
    }
   ],
   "source": [
    "np.corrcoef(X[:,0],Y[:,0])[0,1]"
   ]
  },
  {
   "cell_type": "code",
   "execution_count": 80,
   "metadata": {
    "collapsed": false
   },
   "outputs": [
    {
     "data": {
      "text/plain": [
       "array([[-0.05747125, -0.03896955, -0.23807667],\n",
       "       [-0.13429343, -0.12808604, -0.28535605],\n",
       "       [-0.08928031,  0.05539435, -0.17337179],\n",
       "       [-0.04782268,  0.18019212,  0.25133014],\n",
       "       [-0.0106113 ,  0.23697088,  0.34420289],\n",
       "       [-0.1543831 ,  0.05809124, -0.17834614]])"
      ]
     },
     "execution_count": 80,
     "metadata": {},
     "output_type": "execute_result"
    }
   ],
   "source": [
    "res = np.zeros((6,3))\n",
    "for i in range(6):\n",
    "    for j in range(3):\n",
    "        res[i,j]=np.corrcoef(X[:,i],Y[:,j])[0,1]\n",
    "res"
   ]
  },
  {
   "cell_type": "code",
   "execution_count": 45,
   "metadata": {
    "collapsed": false
   },
   "outputs": [
    {
     "data": {
      "text/plain": [
       "array([[ 1.        , -0.05747125],\n",
       "       [-0.05747125,  1.        ]])"
      ]
     },
     "execution_count": 45,
     "metadata": {},
     "output_type": "execute_result"
    }
   ],
   "source": [
    "np.corrcoef(dX.iloc[:,1],dY.iloc[:,0])"
   ]
  },
  {
   "cell_type": "code",
   "execution_count": 46,
   "metadata": {
    "collapsed": false
   },
   "outputs": [
    {
     "data": {
      "text/plain": [
       "CCA(copy=True, max_iter=500, n_components=2, scale=True, tol=1e-06)"
      ]
     },
     "execution_count": 46,
     "metadata": {},
     "output_type": "execute_result"
    }
   ],
   "source": [
    "from sklearn.cross_decomposition import CCA\n",
    "cca = CCA(n_components=1)\n",
    "cca.fit(X,Y)"
   ]
  },
  {
   "cell_type": "code",
   "execution_count": 47,
   "metadata": {
    "collapsed": false
   },
   "outputs": [
    {
     "name": "stdout",
     "output_type": "stream",
     "text": [
      "(9741, 2) (9741, 2)\n"
     ]
    }
   ],
   "source": [
    "X_c, Y_c = cca.transform(X,Y)\n",
    "print X_c.shape, Y_c.shape"
   ]
  },
  {
   "cell_type": "code",
   "execution_count": 48,
   "metadata": {
    "collapsed": false
   },
   "outputs": [
    {
     "data": {
      "text/plain": [
       "array([[ 0.,  0.],\n",
       "       [ 0.,  0.],\n",
       "       [ 0.,  0.],\n",
       "       [ 0.,  0.],\n",
       "       [ 0.,  0.],\n",
       "       [ 0.,  0.]])"
      ]
     },
     "execution_count": 48,
     "metadata": {},
     "output_type": "execute_result"
    }
   ],
   "source": [
    "cca.x_weights_"
   ]
  },
  {
   "cell_type": "code",
   "execution_count": 18,
   "metadata": {
    "collapsed": true
   },
   "outputs": [],
   "source": [
    ">>> from sklearn.cross_decomposition import CCA\n",
    ">>> X = [[0., 0., 1.], [1.,0.,0.], [2.,2.,2.], [3.,5.,4.]]\n",
    ">>> Y = [[0.1, -0.2], [0.9, 1.1], [6.2, 5.9], [11.9, 12.3]]\n",
    ">>> cca = CCA(n_components=1)\n",
    ">>> cca.fit(X, Y)\n",
    "... \n",
    "CCA(copy=True, max_iter=500, n_components=1, scale=True, tol=1e-06)\n",
    ">>> X_c, Y_c = cca.transform(X, Y)"
   ]
  },
  {
   "cell_type": "code",
   "execution_count": 20,
   "metadata": {
    "collapsed": false
   },
   "outputs": [
    {
     "data": {
      "text/plain": [
       "array([[ 0.75090645],\n",
       "       [ 0.27037071],\n",
       "       [ 0.60252733]])"
      ]
     },
     "execution_count": 20,
     "metadata": {},
     "output_type": "execute_result"
    }
   ],
   "source": [
    "cca.x_weights_"
   ]
  }
 ],
 "metadata": {
  "kernelspec": {
   "display_name": "Python 2",
   "language": "python",
   "name": "python2"
  },
  "language_info": {
   "codemirror_mode": {
    "name": "ipython",
    "version": 2
   },
   "file_extension": ".py",
   "mimetype": "text/x-python",
   "name": "python",
   "nbconvert_exporter": "python",
   "pygments_lexer": "ipython2",
   "version": "2.7.11"
  }
 },
 "nbformat": 4,
 "nbformat_minor": 0
}
