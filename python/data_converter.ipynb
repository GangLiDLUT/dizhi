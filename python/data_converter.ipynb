{
 "cells": [
  {
   "cell_type": "markdown",
   "metadata": {},
   "source": [
    "这个文件主要是用来进行数据格式转换。\n",
    "\n",
    "将csv文件转化成python内部的格式并保存好。以后直接从内部格式中读取即可。"
   ]
  },
  {
   "cell_type": "code",
   "execution_count": 1,
   "metadata": {
    "collapsed": true
   },
   "outputs": [],
   "source": [
    "data_dir = '../Data/输入（运行+地质参数）-输出（FTV）/'\n",
    "infile = 'INPUT.csv'\n",
    "outfile='OUTPUT.csv'"
   ]
  },
  {
   "cell_type": "code",
   "execution_count": 2,
   "metadata": {
    "collapsed": false
   },
   "outputs": [],
   "source": [
    "import pandas as pd\n",
    "feats = pd.read_csv(data_dir+infile)\n",
    "labs = pd.read_csv(data_dir+outfile)\n",
    "labs = labs[['F','T','V']]"
   ]
  },
  {
   "cell_type": "code",
   "execution_count": 3,
   "metadata": {
    "collapsed": false
   },
   "outputs": [
    {
     "name": "stdout",
     "output_type": "stream",
     "text": [
      "(66067, 81)\n",
      "(66067, 3)\n"
     ]
    },
    {
     "data": {
      "text/html": [
       "<div>\n",
       "<table border=\"1\" class=\"dataframe\">\n",
       "  <thead>\n",
       "    <tr style=\"text-align: right;\">\n",
       "      <th></th>\n",
       "      <th>F</th>\n",
       "      <th>T</th>\n",
       "      <th>V</th>\n",
       "    </tr>\n",
       "  </thead>\n",
       "  <tbody>\n",
       "    <tr>\n",
       "      <th>0</th>\n",
       "      <td>9030.883</td>\n",
       "      <td>1329.209</td>\n",
       "      <td>74.16113</td>\n",
       "    </tr>\n",
       "    <tr>\n",
       "      <th>1</th>\n",
       "      <td>9031.707</td>\n",
       "      <td>1318.507</td>\n",
       "      <td>70.97778</td>\n",
       "    </tr>\n",
       "    <tr>\n",
       "      <th>2</th>\n",
       "      <td>9051.828</td>\n",
       "      <td>1302.055</td>\n",
       "      <td>71.93286</td>\n",
       "    </tr>\n",
       "    <tr>\n",
       "      <th>3</th>\n",
       "      <td>9094.104</td>\n",
       "      <td>1291.687</td>\n",
       "      <td>69.70459</td>\n",
       "    </tr>\n",
       "    <tr>\n",
       "      <th>4</th>\n",
       "      <td>9129.016</td>\n",
       "      <td>1314.849</td>\n",
       "      <td>70.97778</td>\n",
       "    </tr>\n",
       "  </tbody>\n",
       "</table>\n",
       "</div>"
      ],
      "text/plain": [
       "          F         T         V\n",
       "0  9030.883  1329.209  74.16113\n",
       "1  9031.707  1318.507  70.97778\n",
       "2  9051.828  1302.055  71.93286\n",
       "3  9094.104  1291.687  69.70459\n",
       "4  9129.016  1314.849  70.97778"
      ]
     },
     "execution_count": 3,
     "metadata": {},
     "output_type": "execute_result"
    }
   ],
   "source": [
    "print feats.shape\n",
    "print labs.shape\n",
    "labs.head()"
   ]
  },
  {
   "cell_type": "markdown",
   "metadata": {},
   "source": [
    "保存文件到hdfs仓库中。（这个库读写非常速度）"
   ]
  },
  {
   "cell_type": "code",
   "execution_count": 4,
   "metadata": {
    "collapsed": false
   },
   "outputs": [],
   "source": [
    "store = pd.HDFStore('store.h5')\n",
    "store['feats']=feats\n",
    "store['labs']=labs\n",
    "store.flush(fsync=True)\n",
    "store.close()"
   ]
  },
  {
   "cell_type": "code",
   "execution_count": null,
   "metadata": {
    "collapsed": true
   },
   "outputs": [],
   "source": []
  }
 ],
 "metadata": {
  "kernelspec": {
   "display_name": "Python 2",
   "language": "python",
   "name": "python2"
  },
  "language_info": {
   "codemirror_mode": {
    "name": "ipython",
    "version": 2
   },
   "file_extension": ".py",
   "mimetype": "text/x-python",
   "name": "python",
   "nbconvert_exporter": "python",
   "pygments_lexer": "ipython2",
   "version": "2.7.11"
  }
 },
 "nbformat": 4,
 "nbformat_minor": 0
}
