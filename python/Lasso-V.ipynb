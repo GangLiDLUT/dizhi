{
 "cells": [
  {
   "cell_type": "markdown",
   "metadata": {},
   "source": [
    "# load dataset and screen obvious outliers"
   ]
  },
  {
   "cell_type": "code",
   "execution_count": 2,
   "metadata": {
    "collapsed": false
   },
   "outputs": [
    {
     "name": "stdout",
     "output_type": "stream",
     "text": [
      "Populating the interactive namespace from numpy and matplotlib\n"
     ]
    }
   ],
   "source": [
    "%pylab inline\n",
    "%matplotlib inline\n",
    "import pandas as pd\n",
    "\n",
    "store = pd.HDFStore('store.h5')\n",
    "feats = store['feats']\n",
    "labs = store['labs']\n",
    "\n",
    "# sel=(labs.F!=0)\n",
    "# labF = labs[sel].F\n",
    "# featsF = feats[sel]\n",
    "\n",
    "# sel2=(labs['T']!=0)\n",
    "# labT = labs[sel2]['T']\n",
    "# featsT = feats[sel2]\n",
    "\n",
    "labV = labs.V\n",
    "featsV = feats"
   ]
  },
  {
   "cell_type": "markdown",
   "metadata": {},
   "source": [
    "- variable SA,SB,SC,SD should be deleted"
   ]
  },
  {
   "cell_type": "code",
   "execution_count": null,
   "metadata": {
    "collapsed": true
   },
   "outputs": [],
   "source": []
  },
  {
   "cell_type": "markdown",
   "metadata": {},
   "source": [
    "# preprocessing the data"
   ]
  },
  {
   "cell_type": "code",
   "execution_count": 6,
   "metadata": {
    "collapsed": false
   },
   "outputs": [
    {
     "name": "stdout",
     "output_type": "stream",
     "text": [
      "(44264, 81) (21803, 81) (44264,) (21803,)\n"
     ]
    }
   ],
   "source": [
    "from sklearn import preprocessing\n",
    "import numpy as np\n",
    "\n",
    "# sfeatsF = pd.DataFrame(preprocessing.scale(featsF))\n",
    "# sfeatsT = pd.DataFrame(preprocessing.scale(featsT))\n",
    "sfeatsV = pd.DataFrame(preprocessing.scale(featsV))\n",
    "\n",
    "X=sfeatsV\n",
    "Y=labV\n",
    "from sklearn.cross_validation import train_test_split\n",
    "\n",
    "X_train, X_test, Y_train, Y_test = train_test_split(sfeatsV, labV, test_size=0.33, random_state=42)\n",
    "print X_train.shape, X_test.shape, Y_train.shape, Y_test.shape"
   ]
  },
  {
   "cell_type": "markdown",
   "metadata": {},
   "source": [
    "$score = 1−\\sum(y_{pred}−y_{true})^2/ \\sum(y_{true}−y_{mean})^2$\n"
   ]
  },
  {
   "cell_type": "code",
   "execution_count": 7,
   "metadata": {
    "collapsed": false,
    "scrolled": true
   },
   "outputs": [
    {
     "name": "stdout",
     "output_type": "stream",
     "text": [
      "deleted variables: 59\n",
      "score: 0.636226101806\n"
     ]
    }
   ],
   "source": [
    "from sklearn import linear_model\n",
    "lasso = linear_model.Lasso(alpha=0.5)\n",
    "lasso.fit(X_train,Y_train)\n",
    "\n",
    "lowly_correlated= (lasso.coef_==0)\n",
    "print 'deleted variables:',sum(lowly_correlated)\n",
    "print 'score:',lasso.score(X_test,Y_test)"
   ]
  },
  {
   "cell_type": "code",
   "execution_count": 8,
   "metadata": {
    "collapsed": false
   },
   "outputs": [
    {
     "data": {
      "text/plain": [
       "[<matplotlib.lines.Line2D at 0x11434f150>]"
      ]
     },
     "execution_count": 8,
     "metadata": {},
     "output_type": "execute_result"
    },
    {
     "data": {
      "image/png": "[encoded data removed]",
      "text/plain": [
       "<matplotlib.figure.Figure at 0x114278fd0>"
      ]
     },
     "metadata": {},
     "output_type": "display_data"
    }
   ],
   "source": [
    "plot(lasso.coef_,'o')"
   ]
  },
  {
   "cell_type": "code",
   "execution_count": 9,
   "metadata": {
    "collapsed": false
   },
   "outputs": [
    {
     "name": "stdout",
     "output_type": "stream",
     "text": [
      "WL : 18.2645746035\n",
      "PL : 3.09523018852\n",
      "FP : 2.29049760182\n",
      "W : 2.14630861126\n",
      "TEG : 2.0427267055\n",
      "PJ : 1.7466427136\n",
      "TL : 1.2030148363\n",
      "EM3 : 1.08718786661\n",
      "P4 : 1.01214762896\n",
      "SIGMA : 0.937703258517\n",
      "TEL : 0.784434042031\n",
      "PBL : 0.748400299634\n",
      "FPB : 0.733070482409\n",
      "PZUR : 0.727414139122\n",
      "PDWLL : 0.534424043406\n",
      "SITA3 : 0.400833894475\n",
      "P1 : 0.335375194842\n",
      "FPA : 0.202969523976\n",
      "EM1 : 0.194370971072\n",
      "SB : 0.185932569841\n",
      "H1 : 0.123140998779\n",
      "K3 : 0.106289715106\n",
      "PTDL : 0.0\n",
      "K4 : 0.0\n",
      "PTDR : 0.0\n",
      "PTUR : 0.0\n",
      "PPLT : 0.0\n",
      "PZUL : 0.0\n",
      "PTU : 0.0\n",
      "PZDL : 0.0\n",
      "PZDR : 0.0\n",
      "PDWHDL : 0.0\n",
      "PTUL : 0.0\n",
      "PDWHLL : 0.0\n",
      "PDWHDR : 0.0\n",
      "PDWHRR : 0.0\n",
      "PDWHUR : 0.0\n",
      "PDWDL : 0.0\n",
      "PDWDR : 0.0\n",
      "PDWRR : 0.0\n",
      "PDWUR : 0.0\n",
      "PSB : 0.0\n",
      "FPD : 0.0\n",
      "FPC : 0.0\n",
      "PDWUL : 0.0\n",
      "WP : 0.0\n",
      "PDWHUL : 0.0\n",
      "Y3 : 0.0\n",
      "EM2 : 0.0\n",
      "P2 : 0.0\n",
      "SITA2 : 0.0\n",
      "K2 : 0.0\n",
      "FRB2 : 0.0\n",
      "H3 : 0.0\n",
      "FI3 : 0.0\n",
      "Y2 : 0.0\n",
      "P3 : 0.0\n",
      "FRB3 : 0.0\n",
      "H4 : 0.0\n",
      "Y4 : 0.0\n",
      "FI4 : 0.0\n",
      "EM4 : 0.0\n",
      "FI2 : 0.0\n",
      "H2 : 0.0\n",
      "PDPLT : 0.0\n",
      "SDR : 0.0\n",
      "PFL : 0.0\n",
      "SITA4 : 0.0\n",
      "SA : 0.0\n",
      "SC : 0.0\n",
      "SD : 0.0\n",
      "SUR : 0.0\n",
      "SDL : 0.0\n",
      "FRB1 : 0.0\n",
      "SUL : 0.0\n",
      "SITA : 0.0\n",
      "Y1 : 0.0\n",
      "FI1 : 0.0\n",
      "SITA1 : 0.0\n",
      "K1 : 0.0\n",
      "TEZ : 0.0\n"
     ]
    }
   ],
   "source": [
    "s_idx=argsort(abs(lasso.coef_))\n",
    "importance = featsV.columns[s_idx[::-1]]\n",
    "for name,imp in zip(importance,sort(abs(lasso.coef_))[::-1]):\n",
    "    print name,':',imp"
   ]
  },
  {
   "cell_type": "markdown",
   "metadata": {},
   "source": [
    "# use full data"
   ]
  },
  {
   "cell_type": "code",
   "execution_count": 10,
   "metadata": {
    "collapsed": false
   },
   "outputs": [
    {
     "name": "stdout",
     "output_type": "stream",
     "text": [
      "score: 0.63935867916\n"
     ]
    }
   ],
   "source": [
    "lasso.fit(X,Y)\n",
    "print 'score:',lasso.score(X,Y)"
   ]
  },
  {
   "cell_type": "markdown",
   "metadata": {},
   "source": [
    "# random forest"
   ]
  },
  {
   "cell_type": "code",
   "execution_count": 11,
   "metadata": {
    "collapsed": false
   },
   "outputs": [
    {
     "name": "stdout",
     "output_type": "stream",
     "text": [
      "0.913851996922\n"
     ]
    }
   ],
   "source": [
    "from sklearn.ensemble import RandomForestRegressor as RFR\n",
    "rfr = RFR(n_estimators=10, criterion='mse', \n",
    "          max_depth=None, min_samples_split=2, \n",
    "          min_samples_leaf=1, min_weight_fraction_leaf=0.0,\n",
    "          max_features='auto', max_leaf_nodes=None, bootstrap=True,\n",
    "          oob_score=False, n_jobs=1, random_state=None, verbose=0, \n",
    "          warm_start=False)\n",
    "rfr.fit(X_train,Y_train)\n",
    "print rfr.score(X_test,Y_test)"
   ]
  },
  {
   "cell_type": "code",
   "execution_count": 12,
   "metadata": {
    "collapsed": false
   },
   "outputs": [
    {
     "data": {
      "text/plain": [
       "[<matplotlib.lines.Line2D at 0x1080e4890>]"
      ]
     },
     "execution_count": 12,
     "metadata": {},
     "output_type": "execute_result"
    },
    {
     "data": {
      "image/png": "[encoded data removed]",
      "text/plain": [
       "<matplotlib.figure.Figure at 0x114383050>"
      ]
     },
     "metadata": {},
     "output_type": "display_data"
    }
   ],
   "source": [
    "plot(rfr.feature_importances_,'o')"
   ]
  },
  {
   "cell_type": "code",
   "execution_count": 13,
   "metadata": {
    "collapsed": false
   },
   "outputs": [
    {
     "name": "stdout",
     "output_type": "stream",
     "text": [
      "WL : 0.564890265049\n",
      "FP : 0.051291667649\n",
      "PL : 0.0362390170782\n",
      "W : 0.0204415920788\n",
      "TEG : 0.0181453278033\n",
      "FPC : 0.0145735008581\n",
      "FPD : 0.0137232004133\n",
      "PBL : 0.0137188307391\n",
      "PTDL : 0.0126072145746\n",
      "PDWLL : 0.011915963258\n",
      "PJ : 0.0111349393367\n",
      "FPB : 0.0102577387294\n",
      "FPA : 0.0093808228791\n",
      "SDR : 0.00933092881213\n",
      "SUL : 0.00871540754106\n",
      "EM3 : 0.00864719119854\n",
      "TL : 0.00821297537893\n",
      "SDL : 0.00810244668694\n",
      "PDWHRR : 0.00793172779371\n",
      "TEL : 0.00731917145909\n",
      "SUR : 0.00696702234861\n",
      "PDWHDR : 0.00671771829735\n",
      "PTU : 0.00670477193637\n",
      "TEZ : 0.0066724643773\n",
      "PDWHUL : 0.00603813429002\n",
      "PTDR : 0.00596156542465\n",
      "SIGMA : 0.0058601161646\n",
      "PSB : 0.00569314170849\n",
      "PDWUR : 0.00542540485158\n",
      "PTUL : 0.00511699484703\n",
      "PDWRR : 0.0048920256786\n",
      "PDWHLL : 0.00484408574057\n",
      "PDWDL : 0.00467481083451\n",
      "PDPLT : 0.00423825548608\n",
      "PDWHUR : 0.0040971180433\n",
      "SITA : 0.00408632673604\n",
      "SD : 0.00397343115139\n",
      "PFL : 0.00395634555475\n",
      "PDWDR : 0.00380748811469\n",
      "H3 : 0.00370771225501\n",
      "SA : 0.00357374701117\n",
      "PZUL : 0.0035621351499\n",
      "PDWUL : 0.00331118716155\n",
      "SB : 0.00327870657003\n",
      "FRB3 : 0.00321083331777\n",
      "H1 : 0.003070152005\n",
      "PTUR : 0.00302879594035\n",
      "PDWHDL : 0.0030065299987\n",
      "SC : 0.00292900285364\n",
      "PPLT : 0.00251701392007\n",
      "H2 : 0.0024515790916\n",
      "EM2 : 0.00233638950612\n",
      "PZUR : 0.00197274033056\n",
      "P3 : 0.00138101012783\n",
      "K2 : 0.00112029889721\n",
      "P2 : 0.0010493930403\n",
      "FI2 : 0.00102302766092\n",
      "SITA1 : 0.000975890139734\n",
      "FI3 : 0.000950299015075\n",
      "WP : 0.000737605500443\n",
      "PZDL : 0.000639392570722\n",
      "FRB2 : 0.000614265407861\n",
      "Y1 : 0.000529687735209\n",
      "SITA3 : 0.000350676450981\n",
      "SITA4 : 0.000350567380002\n",
      "FRB1 : 0.000331057646901\n",
      "SITA2 : 0.000301366334174\n",
      "P1 : 0.000190918115584\n",
      "Y3 : 0.000171332149144\n",
      "EM1 : 0.0001448046047\n",
      "Y2 : 0.000129462306434\n",
      "P4 : 0.000112062744625\n",
      "K1 : 0.000110628992968\n",
      "FI1 : 9.33898240859e-05\n",
      "K4 : 9.17111161834e-05\n",
      "EM4 : 8.86883536546e-05\n",
      "K3 : 8.43041091052e-05\n",
      "FI4 : 8.05015552048e-05\n",
      "H4 : 5.33579966218e-05\n",
      "Y4 : 3.06242095926e-05\n",
      "PZDR : 0.0\n"
     ]
    }
   ],
   "source": [
    "s_idx=argsort(rfr.feature_importances_)[::-1]\n",
    "importance = featsV.columns[s_idx]\n",
    "for name,imp in zip(importance,rfr.feature_importances_[s_idx]):\n",
    "    print name,':',imp"
   ]
  },
  {
   "cell_type": "code",
   "execution_count": null,
   "metadata": {
    "collapsed": true
   },
   "outputs": [],
   "source": []
  }
 ],
 "metadata": {
  "kernelspec": {
   "display_name": "Python 2",
   "language": "python",
   "name": "python2"
  },
  "language_info": {
   "codemirror_mode": {
    "name": "ipython",
    "version": 2
   },
   "file_extension": ".py",
   "mimetype": "text/x-python",
   "name": "python",
   "nbconvert_exporter": "python",
   "pygments_lexer": "ipython2",
   "version": "2.7.11"
  }
 },
 "nbformat": 4,
 "nbformat_minor": 0
}
